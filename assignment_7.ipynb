{
 "cells": [
  {
   "cell_type": "code",
   "execution_count": null,
   "metadata": {},
   "outputs": [],
   "source": [
    "# assignment_7\n",
    "import numpy as np\n",
    "from math import exp\n",
    "# question-1 :\n",
    "rno = np.random.rand(10,1)\n",
    "print(rno)\n",
    "print(\"\\n\\nmean of numbers is : \\n\\n\" + str(np.mean(rno)))\n"
   ]
  },
  {
   "cell_type": "code",
   "execution_count": null,
   "metadata": {},
   "outputs": [],
   "source": [
    "# question-2 :\n",
    "rno2 = np.random.rand(20,1)\n",
    "print(rno2)\n",
    "print(\"\\nVariance of 2nd array is : \" + str(rno.var()))\n",
    "print(\"\\nStandard Deviation of 2nd array is : \" + str(rno2.std()))"
   ]
  },
  {
   "cell_type": "code",
   "execution_count": null,
   "metadata": {},
   "outputs": [],
   "source": [
    "# question-3 :\n",
    "A = np.random.rand(10,20)\n",
    "print(\"\\n\\nmatrix A is : \\n\\n\" + str(A))\n",
    "B = (np.random.rand(20,25))\n",
    "print(\"\\n\\nmatrix B is : \\n\\n\" + str(B))\n",
    "mul = np.dot(A,B)\n",
    "new_matrix = mul.reshape(10,25)\n",
    "print(\"\\n\\nNew matrix is : \\n\\n\" + str(new_matrix))\n",
    "sum_is = new_matrix.sum()\n",
    "print(\"\\n\\nsum is : \\n\\n\" + str(sum_is))"
   ]
  },
  {
   "cell_type": "code",
   "execution_count": null,
   "metadata": {},
   "outputs": [],
   "source": [
    "# question-4 :\n",
    "A = np.random.rand(10,1)\n",
    "print(\"\\n\\n\")\n",
    "print(A)\n",
    "new_array = []\n",
    "def my_function(x):\n",
    "    shiv = 1/(1+exp(-x))\n",
    "    new_array.append(shiv)\n",
    "\n",
    "for each in A:\n",
    "    my_function(each)\n",
    "print(\"New array is: \" + str(new_array))"
   ]
  }
 ],
 "metadata": {},
 "nbformat": 4,
 "nbformat_minor": 0
}
